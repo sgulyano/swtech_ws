{
 "cells": [
  {
   "cell_type": "markdown",
   "metadata": {},
   "source": [
    "# Visualizing Satellite Data Over Time"
   ]
  },
  {
   "cell_type": "markdown",
   "metadata": {},
   "source": [
    "Use branca for linear colormap"
   ]
  },
  {
   "cell_type": "code",
   "execution_count": null,
   "metadata": {},
   "outputs": [],
   "source": [
    "import geopandas as gpd\n",
    "import folium\n",
    "import branca\n",
    "from folium.plugins import TimestampedGeoJson"
   ]
  },
  {
   "cell_type": "code",
   "execution_count": null,
   "metadata": {},
   "outputs": [],
   "source": [
    "directory = '../DOAE spatial data/ดาวเทียม/'\n",
    "rice_file = directory + '20200229_16_Rice/rice_20200229.shp'"
   ]
  },
  {
   "cell_type": "code",
   "execution_count": null,
   "metadata": {},
   "outputs": [],
   "source": [
    "rice = gpd.read_file(rice_file, encoding='utf-8')"
   ]
  },
  {
   "cell_type": "code",
   "execution_count": null,
   "metadata": {},
   "outputs": [],
   "source": [
    "rice.columns"
   ]
  },
  {
   "cell_type": "code",
   "execution_count": null,
   "metadata": {},
   "outputs": [],
   "source": [
    "rice.iloc[0].geometry"
   ]
  },
  {
   "cell_type": "code",
   "execution_count": null,
   "metadata": {},
   "outputs": [],
   "source": [
    "rice.iloc[0].geometry.__geo_interface__"
   ]
  },
  {
   "cell_type": "code",
   "execution_count": null,
   "metadata": {},
   "outputs": [],
   "source": [
    "rice.iloc[0]['harv_date']"
   ]
  },
  {
   "cell_type": "code",
   "execution_count": null,
   "metadata": {},
   "outputs": [],
   "source": [
    "rice.iloc[1].geometry"
   ]
  },
  {
   "cell_type": "code",
   "execution_count": null,
   "metadata": {},
   "outputs": [],
   "source": [
    "len(rice.iloc[1].geometry.__geo_interface__['coordinates'])"
   ]
  },
  {
   "cell_type": "code",
   "execution_count": null,
   "metadata": {},
   "outputs": [],
   "source": [
    "def get_polygon(row):\n",
    "    return {\n",
    "        'type': 'Feature',\n",
    "        'geometry': row.geometry.__geo_interface__,\n",
    "        'properties': {\n",
    "            'style': {\n",
    "                'color': 'blue',\n",
    "            },\n",
    "            'times': [row['harv_date']]*len(row.geometry.__geo_interface__['coordinates'])\n",
    "        }\n",
    "    }"
   ]
  },
  {
   "cell_type": "code",
   "execution_count": null,
   "metadata": {},
   "outputs": [],
   "source": [
    "MAX_RECORDS = 1000"
   ]
  },
  {
   "cell_type": "code",
   "execution_count": null,
   "metadata": {},
   "outputs": [],
   "source": [
    "rice[:MAX_RECORDS]['harv_date'].unique()"
   ]
  },
  {
   "cell_type": "code",
   "execution_count": null,
   "metadata": {},
   "outputs": [],
   "source": [
    "polygons = []\n",
    "\n",
    "for i, row in rice[:MAX_RECORDS].iterrows():\n",
    "    polygons.append(get_polygon(row))"
   ]
  },
  {
   "cell_type": "code",
   "execution_count": null,
   "metadata": {},
   "outputs": [],
   "source": [
    "m = folium.Map(location=[14.069446, 100.603271], zoom_start=6)\n",
    "\n",
    "TimestampedGeoJson(\n",
    "    {'type': 'FeatureCollection', 'features': polygons},\n",
    "    period='P1M',\n",
    "    duration='P16D',\n",
    "    auto_play=False,\n",
    "    loop=False,\n",
    "    loop_button=True,\n",
    "    date_options='YYYY/MM/DD',\n",
    ").add_to(m)\n",
    "    \n",
    "m"
   ]
  },
  {
   "cell_type": "markdown",
   "metadata": {},
   "source": [
    "## Add Color based on yields"
   ]
  },
  {
   "cell_type": "code",
   "execution_count": null,
   "metadata": {},
   "outputs": [],
   "source": [
    "colormap = branca.colormap.LinearColormap(vmin=rice[:MAX_RECORDS]['yield'].min(), \n",
    "                                          vmax=rice[:MAX_RECORDS]['yield'].max(), \n",
    "                                          colors=['yellow','red'],\n",
    "                                          caption=\"Rice Yield\")"
   ]
  },
  {
   "cell_type": "code",
   "execution_count": null,
   "metadata": {},
   "outputs": [],
   "source": [
    "def get_polygon_color(row):\n",
    "    return {\n",
    "        'type': 'Feature',\n",
    "        'geometry': row.geometry.__geo_interface__,\n",
    "        'properties': {\n",
    "            'style': {\n",
    "                'color': colormap(row['yield']),\n",
    "            },\n",
    "            'times': [row['harv_date']]*len(row.geometry.__geo_interface__['coordinates'])\n",
    "        }\n",
    "    }"
   ]
  },
  {
   "cell_type": "code",
   "execution_count": null,
   "metadata": {},
   "outputs": [],
   "source": [
    "color_polygons = []\n",
    "\n",
    "for i, row in rice[:MAX_RECORDS].iterrows():\n",
    "    color_polygons.append(get_polygon_color(row))"
   ]
  },
  {
   "cell_type": "code",
   "execution_count": null,
   "metadata": {},
   "outputs": [],
   "source": [
    "m = folium.Map(location=[14.069446, 100.603271], zoom_start=6)\n",
    "\n",
    "TimestampedGeoJson(\n",
    "    {'type': 'FeatureCollection', 'features': color_polygons},\n",
    "    period='P1M',\n",
    "    duration='P16D',\n",
    "    auto_play=False,\n",
    "    loop=False,\n",
    "    loop_button=True,\n",
    "    date_options='YYYY/MM/DD',\n",
    ").add_to(m)\n",
    "m.add_child(colormap)\n",
    "m"
   ]
  },
  {
   "cell_type": "code",
   "execution_count": null,
   "metadata": {},
   "outputs": [],
   "source": [
    "m.save('output/sat_viz_time.html')"
   ]
  }
 ],
 "metadata": {
  "kernelspec": {
   "display_name": "planet",
   "language": "python",
   "name": "planet"
  },
  "language_info": {
   "codemirror_mode": {
    "name": "ipython",
    "version": 3
   },
   "file_extension": ".py",
   "mimetype": "text/x-python",
   "name": "python",
   "nbconvert_exporter": "python",
   "pygments_lexer": "ipython3",
   "version": "3.7.3"
  }
 },
 "nbformat": 4,
 "nbformat_minor": 4
}
