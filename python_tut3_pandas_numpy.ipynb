{
 "cells": [
  {
   "cell_type": "markdown",
   "metadata": {},
   "source": [
    "<a name=\"top\"></a>\n",
    "# Python Workshop 3\n",
    "We will look at [NumPy](http://www.numpy.org/) and [Pandas](https://pandas.pydata.org/), which are two of the most popular packages for data analysts these days.\n",
    "\n",
    "* [NumPy](#numpy) is the homogeneous multidimensional array, which is perfect for predictive analysis.\n",
    "* [Pandas](#pandas) provides an easy-to-use data structures, which is great for handling data."
   ]
  },
  {
   "cell_type": "markdown",
   "metadata": {},
   "source": [
    "-----\n",
    "<a name=\"numpy\"></a>\n",
    "## NumPy\n",
    "NumPy’s main object is the homogeneous multidimensional array (a N-dimensional hypervolume whose elements, usually numbers, are all of the same type). NumPy’s array class is called `ndarray`. Here we will cover:\n",
    "* Array Creation\n",
    "* Basic Operations\n",
    "* Indexing, Slicing and Iterating\n",
    "* Shape Manipulation\n",
    "* Copies\n",
    "* Broadcasting Rules\n",
    "\n",
    "More details [here](https://docs.scipy.org/doc/numpy-1.15.1/user/quickstart.html).\n",
    "\n",
    "### Array Creation\n",
    "First, we need to create the `ndarray`. There are several ways to create arrays."
   ]
  },
  {
   "cell_type": "code",
   "execution_count": 1,
   "metadata": {},
   "outputs": [
    {
     "name": "stdout",
     "output_type": "stream",
     "text": [
      "a=[2 3 4]\n",
      "type=<class 'numpy.ndarray'>\n",
      "b= [1.2 3.5 5.1]\n",
      "c= [[0. 0. 0. 0.]\n",
      " [0. 0. 0. 0.]]\n",
      "d= [[[1. 1. 1. 1.]\n",
      "  [1. 1. 1. 1.]\n",
      "  [1. 1. 1. 1.]]\n",
      "\n",
      " [[1. 1. 1. 1.]\n",
      "  [1. 1. 1. 1.]\n",
      "  [1. 1. 1. 1.]]]\n",
      "e= [[1.11260348e-306 8.34422220e-308 1.60218763e-306]\n",
      " [1.69121367e-306 1.33511969e-306 9.34562257e-307]]\n"
     ]
    }
   ],
   "source": [
    "import numpy as np\n",
    "a = np.array([2,3,4])\n",
    "print('a={}\\ntype={}'.format(a, type(a)))\n",
    "b = np.array([1.2, 3.5, 5.1])\n",
    "print('b=',b)\n",
    "c = np.zeros((2,4))\n",
    "print('c=',c)\n",
    "d = np.ones((2,3,4))\n",
    "print('d=',d)\n",
    "e = np.empty((2,3))\n",
    "print('e=',e)"
   ]
  },
  {
   "cell_type": "markdown",
   "metadata": {},
   "source": [
    "Notice how NumPy displays array (in NumPy dimensions are called axes):\n",
    "* The last axis is printed from left to right,\n",
    "* The second-to-last is printed from top to bottom,\n",
    "* The rest are also printed from top to bottom, with each slice separated from the next by an empty line.\n",
    "\n",
    "You can create sequences of numbers as well"
   ]
  },
  {
   "cell_type": "code",
   "execution_count": 2,
   "metadata": {},
   "outputs": [
    {
     "name": "stdout",
     "output_type": "stream",
     "text": [
      "arange= [10 15 20 25]\n",
      "linspace= [0.   0.25 0.5  0.75 1.   1.25 1.5  1.75 2.  ]\n",
      "random= [[0.24676819 0.24108013 0.13106437 0.49904287]\n",
      " [0.87870332 0.6212798  0.13764296 0.09222461]\n",
      " [0.59885802 0.52389192 0.88047451 0.84402225]]\n"
     ]
    }
   ],
   "source": [
    "f = np.arange(10, 30, 5)\n",
    "print('arange=', f)\n",
    "g = np.linspace(0, 2, 9)\n",
    "print('linspace=', g)\n",
    "h = np.random.random((3,4))\n",
    "print('random=', h)"
   ]
  },
  {
   "cell_type": "markdown",
   "metadata": {},
   "source": [
    "`ndarray` has a number of attributes."
   ]
  },
  {
   "cell_type": "code",
   "execution_count": 3,
   "metadata": {},
   "outputs": [
    {
     "name": "stdout",
     "output_type": "stream",
     "text": [
      "a= [2 3 4]\n",
      "a.ndim= 1\n",
      "a.shape= (3,)\n",
      "a.size= 3\n",
      "a.dtype= int32\n"
     ]
    }
   ],
   "source": [
    "print('a=',a)\n",
    "print('a.ndim=',a.ndim)\n",
    "print('a.shape=',a.shape)\n",
    "print('a.size=',a.size)\n",
    "print('a.dtype=',a.dtype)"
   ]
  },
  {
   "cell_type": "markdown",
   "metadata": {},
   "source": [
    "### Basic Operations\n",
    "Arithmetic operators on arrays apply elementwise."
   ]
  },
  {
   "cell_type": "code",
   "execution_count": 4,
   "metadata": {},
   "outputs": [
    {
     "name": "stdout",
     "output_type": "stream",
     "text": [
      "a= [2 3 4]\n",
      "b= [1.2 3.5 5.1]\n",
      "a-b= [ 0.8 -0.5 -1.1]\n"
     ]
    }
   ],
   "source": [
    "print('a=',a)\n",
    "print('b=',b)\n",
    "print('a-b=',a-b)"
   ]
  },
  {
   "cell_type": "code",
   "execution_count": 5,
   "metadata": {},
   "outputs": [
    {
     "name": "stdout",
     "output_type": "stream",
     "text": [
      "[ 4  9 16]\n",
      "[1.41421356 1.73205081 2.        ]\n",
      "[False  True  True]\n"
     ]
    }
   ],
   "source": [
    "print(a**2)\n",
    "print(np.sqrt(a))\n",
    "print(b>3)"
   ]
  },
  {
   "cell_type": "markdown",
   "metadata": {},
   "source": [
    "Many unary operations, such as the sum of all the elements in the array, are implemented as methods of the `ndarray` class."
   ]
  },
  {
   "cell_type": "code",
   "execution_count": 6,
   "metadata": {},
   "outputs": [
    {
     "name": "stdout",
     "output_type": "stream",
     "text": [
      "9\n",
      "3.0\n",
      "0.816496580927726\n",
      "2 4\n"
     ]
    }
   ],
   "source": [
    "print(a.sum())\n",
    "print(a.mean())\n",
    "print(a.std())\n",
    "print(a.min(), a.max())"
   ]
  },
  {
   "cell_type": "markdown",
   "metadata": {},
   "source": [
    "### Indexing, Slicing and Iterating\n",
    "**Indexing** and **slicing** are similar to list. Multidimensional arrays can have one index per axis. These indices are given in a tuple separated by commas:"
   ]
  },
  {
   "cell_type": "code",
   "execution_count": 7,
   "metadata": {},
   "outputs": [
    {
     "name": "stdout",
     "output_type": "stream",
     "text": [
      "a= [2 3 4]\n",
      "a[1]= 3\n",
      "a[1:]= [3 4]\n"
     ]
    }
   ],
   "source": [
    "print('a=',a)\n",
    "print('a[1]=',a[1])\n",
    "print('a[1:]=',a[1:])"
   ]
  },
  {
   "cell_type": "code",
   "execution_count": 8,
   "metadata": {},
   "outputs": [
    {
     "name": "stdout",
     "output_type": "stream",
     "text": [
      "e= [[1.11260348e-306 8.34422220e-308 1.60218763e-306]\n",
      " [1.69121367e-306 1.33511969e-306 9.34562257e-307]]\n",
      "e[0,1]= 8.344222198972635e-308\n",
      "e[:,1]= [8.34422220e-308 1.33511969e-306]\n",
      "e[0,0:2]= [1.11260348e-306 8.34422220e-308]\n"
     ]
    }
   ],
   "source": [
    "print('e=',e)\n",
    "print('e[0,1]=',e[0,1])\n",
    "print('e[:,1]=',e[:,1])\n",
    "print('e[0,0:2]=',e[0,0:2])"
   ]
  },
  {
   "cell_type": "markdown",
   "metadata": {},
   "source": [
    "When fewer indices are provided than the number of axes, the missing indices are considered complete slices."
   ]
  },
  {
   "cell_type": "code",
   "execution_count": 9,
   "metadata": {},
   "outputs": [
    {
     "name": "stdout",
     "output_type": "stream",
     "text": [
      "d= [[[1. 1. 1. 1.]\n",
      "  [1. 1. 1. 1.]\n",
      "  [1. 1. 1. 1.]]\n",
      "\n",
      " [[1. 1. 1. 1.]\n",
      "  [1. 1. 1. 1.]\n",
      "  [1. 1. 1. 1.]]]\n",
      "d[1]= [[1. 1. 1. 1.]\n",
      " [1. 1. 1. 1.]\n",
      " [1. 1. 1. 1.]]\n",
      "d[...,3]= [[1. 1. 1.]\n",
      " [1. 1. 1.]]\n"
     ]
    }
   ],
   "source": [
    "print('d=',d)\n",
    "print('d[1]=',d[1])\n",
    "print('d[...,3]=', d[...,3])"
   ]
  },
  {
   "cell_type": "markdown",
   "metadata": {},
   "source": [
    "**Iterating** over multidimensional arrays is done with respect to the first axis:"
   ]
  },
  {
   "cell_type": "code",
   "execution_count": 10,
   "metadata": {},
   "outputs": [
    {
     "name": "stdout",
     "output_type": "stream",
     "text": [
      "row= [1.11260348e-306 8.34422220e-308 1.60218763e-306]\n",
      "row= [1.69121367e-306 1.33511969e-306 9.34562257e-307]\n"
     ]
    }
   ],
   "source": [
    "for row in e:\n",
    "    print('row=',row)"
   ]
  },
  {
   "cell_type": "markdown",
   "metadata": {},
   "source": [
    "### Shape Manipulation\n",
    "You can change the shape of an array."
   ]
  },
  {
   "cell_type": "code",
   "execution_count": 11,
   "metadata": {},
   "outputs": [
    {
     "name": "stdout",
     "output_type": "stream",
     "text": [
      "h= [[0.24676819 0.24108013 0.13106437 0.49904287]\n",
      " [0.87870332 0.6212798  0.13764296 0.09222461]\n",
      " [0.59885802 0.52389192 0.88047451 0.84402225]]\n",
      "(3, 4)\n"
     ]
    }
   ],
   "source": [
    "print('h=',h)\n",
    "print(h.shape)"
   ]
  },
  {
   "cell_type": "code",
   "execution_count": 12,
   "metadata": {},
   "outputs": [
    {
     "name": "stdout",
     "output_type": "stream",
     "text": [
      "reshape= [[0.24676819 0.24108013]\n",
      " [0.13106437 0.49904287]\n",
      " [0.87870332 0.6212798 ]\n",
      " [0.13764296 0.09222461]\n",
      " [0.59885802 0.52389192]\n",
      " [0.88047451 0.84402225]]\n"
     ]
    }
   ],
   "source": [
    "print('reshape=',h.reshape(6,2))"
   ]
  },
  {
   "cell_type": "code",
   "execution_count": 13,
   "metadata": {},
   "outputs": [
    {
     "name": "stdout",
     "output_type": "stream",
     "text": [
      "transpose= [[0.24676819 0.87870332 0.59885802]\n",
      " [0.24108013 0.6212798  0.52389192]\n",
      " [0.13106437 0.13764296 0.88047451]\n",
      " [0.49904287 0.09222461 0.84402225]]\n"
     ]
    }
   ],
   "source": [
    "print('transpose=',h.T)"
   ]
  },
  {
   "cell_type": "code",
   "execution_count": 39,
   "metadata": {},
   "outputs": [
    {
     "data": {
      "text/plain": [
       "array([[[0.24676819, 0.24108013],\n",
       "        [0.13106437, 0.49904287],\n",
       "        [0.87870332, 0.6212798 ]],\n",
       "\n",
       "       [[0.13764296, 0.09222461],\n",
       "        [0.59885802, 0.52389192],\n",
       "        [0.88047451, 0.84402225]]])"
      ]
     },
     "execution_count": 39,
     "metadata": {},
     "output_type": "execute_result"
    }
   ],
   "source": [
    "h.reshape(2,3,2)"
   ]
  },
  {
   "cell_type": "code",
   "execution_count": 41,
   "metadata": {},
   "outputs": [
    {
     "name": "stdout",
     "output_type": "stream",
     "text": [
      "[[[0.24676819 0.13106437 0.87870332]\n",
      "  [0.24108013 0.49904287 0.6212798 ]]\n",
      "\n",
      " [[0.13764296 0.59885802 0.88047451]\n",
      "  [0.09222461 0.52389192 0.84402225]]]\n"
     ]
    }
   ],
   "source": [
    "print(np.swapaxes(h.reshape(2,3,2),1,2))"
   ]
  },
  {
   "cell_type": "markdown",
   "metadata": {},
   "source": [
    "### Copies\n",
    "**No Copy at All** (passing-by-reference): Simple assignments make no copy of array objects or of their data."
   ]
  },
  {
   "cell_type": "code",
   "execution_count": 14,
   "metadata": {},
   "outputs": [
    {
     "name": "stdout",
     "output_type": "stream",
     "text": [
      "a= [ 0  1  2  3  4  5  6  7  8  9 10 11]\n",
      "True\n",
      "a= [100   1   2   3   4   5   6   7   8   9  10  11]\n"
     ]
    }
   ],
   "source": [
    "a = np.arange(12)\n",
    "b = a\n",
    "print('a=',a)\n",
    "print(b is a)\n",
    "b[0] = 100\n",
    "print('a=',a)"
   ]
  },
  {
   "cell_type": "markdown",
   "metadata": {},
   "source": [
    "**Deep Copy** (passing-by-value): The `copy` method makes a complete copy of the array and its data."
   ]
  },
  {
   "cell_type": "code",
   "execution_count": 15,
   "metadata": {},
   "outputs": [
    {
     "name": "stdout",
     "output_type": "stream",
     "text": [
      "False\n",
      "a= [100   1   2   3   4   5   6   7   8   9  10  11]\n",
      "d= [50  1  2  3  4  5  6  7  8  9 10 11]\n"
     ]
    }
   ],
   "source": [
    "d = a.copy()\n",
    "print(d is a)\n",
    "d[0] = 50\n",
    "print('a=',a)\n",
    "print('d=',d)"
   ]
  },
  {
   "cell_type": "markdown",
   "metadata": {},
   "source": [
    "### Broadcasting Rules\n",
    "\n",
    "When operating on two arrays, NumPy compares their shapes element-wise. It starts with the trailing dimensions, and works its way forward. Two dimensions are compatible when\n",
    "\n",
    "1. they are equal, or\n",
    "2. one of them is 1\n",
    "\n",
    "If these conditions are not met, a `ValueError: operands could not be broadcast together` exception is thrown, indicating that the arrays have incompatible shapes. The size of the resulting array is the maximum size along each dimension of the input arrays."
   ]
  },
  {
   "cell_type": "code",
   "execution_count": 16,
   "metadata": {},
   "outputs": [
    {
     "name": "stdout",
     "output_type": "stream",
     "text": [
      "a \t size = (3, 2)\n",
      " [[1 2]\n",
      " [3 4]\n",
      " [5 6]]\n",
      "b \t size = (2,)\n",
      " [ 10 -10]\n",
      "a+b \t size = (3, 2)\n",
      " [[11 -8]\n",
      " [13 -6]\n",
      " [15 -4]]\n"
     ]
    }
   ],
   "source": [
    "a = np.array([[1,2],\n",
    "              [3,4],\n",
    "              [5,6]])\n",
    "b = np.array([10,-10])\n",
    "print(f'a \\t size = {a.shape}\\n', a)\n",
    "print(f'b \\t size = {b.shape}\\n', b)\n",
    "print(f'a+b \\t size = {(a+b).shape}\\n', a+b)"
   ]
  },
  {
   "cell_type": "code",
   "execution_count": 17,
   "metadata": {},
   "outputs": [
    {
     "name": "stdout",
     "output_type": "stream",
     "text": [
      "a \t size = (2, 4, 3)\n",
      " [[[ 0  1  2]\n",
      "  [ 3  4  5]\n",
      "  [ 6  7  8]\n",
      "  [ 9 10 11]]\n",
      "\n",
      " [[12 13 14]\n",
      "  [15 16 17]\n",
      "  [18 19 20]\n",
      "  [21 22 23]]]\n",
      "b \t size = (3,)\n",
      " [-1.   1.   0.1]\n",
      "a*b \t size = (2, 4, 3)\n",
      " [[[ -0.    1.    0.2]\n",
      "  [ -3.    4.    0.5]\n",
      "  [ -6.    7.    0.8]\n",
      "  [ -9.   10.    1.1]]\n",
      "\n",
      " [[-12.   13.    1.4]\n",
      "  [-15.   16.    1.7]\n",
      "  [-18.   19.    2. ]\n",
      "  [-21.   22.    2.3]]]\n"
     ]
    }
   ],
   "source": [
    "a = np.arange(24).reshape((2,4,3))\n",
    "b = np.array([-1,1,0.1])\n",
    "print(f'a \\t size = {a.shape}\\n', a)\n",
    "print(f'b \\t size = {b.shape}\\n', b)\n",
    "print(f'a*b \\t size = {(a*b).shape}\\n', a*b)"
   ]
  },
  {
   "cell_type": "markdown",
   "metadata": {},
   "source": [
    "The second rule of broadcasting provides a convenient way of taking the outer operation of two arrays."
   ]
  },
  {
   "cell_type": "code",
   "execution_count": 18,
   "metadata": {},
   "outputs": [
    {
     "name": "stdout",
     "output_type": "stream",
     "text": [
      "a \t\t size = (4,)\n",
      " [ 0. 10. 20. 30.]\n",
      "b \t\t size = (3,)\n",
      " [1. 2. 3.]\n",
      "a[:, np.newaxis] size = (4, 1)\n",
      "a[:, np.newaxis] + b = \n",
      " [[ 1.  2.  3.]\n",
      " [11. 12. 13.]\n",
      " [21. 22. 23.]\n",
      " [31. 32. 33.]]\n"
     ]
    }
   ],
   "source": [
    "a = np.array([0.0, 10.0, 20.0, 30.0])\n",
    "b = np.array([1.0, 2.0, 3.0])\n",
    "print(f'a \\t\\t size = {a.shape}\\n', a)\n",
    "print(f'b \\t\\t size = {b.shape}\\n', b)\n",
    "print(f'a[:, np.newaxis] size = {a[:, np.newaxis].shape}')\n",
    "print('a[:, np.newaxis] + b = \\n', a[:, np.newaxis] + b)"
   ]
  },
  {
   "cell_type": "markdown",
   "metadata": {},
   "source": [
    "Here the `newaxis` index operator inserts a new axis into a, making it a two-dimensional 4x1 array. Combining the 4x1 array with b, which has shape (3,), yields a 4x3 array."
   ]
  },
  {
   "cell_type": "markdown",
   "metadata": {},
   "source": [
    "[[top](#top)]\n",
    "\n",
    "----"
   ]
  },
  {
   "cell_type": "markdown",
   "metadata": {},
   "source": [
    "## <a name=\"pandas\"></a> Pandas\n",
    "pandas is an open source, BSD-licensed library providing high-performance, easy-to-use data structures and data analysis tools for the Python programming language.\n",
    "\n",
    "Pandas handles data through\n",
    "* Series for 1D data\n",
    "* Data Frame for 2D data"
   ]
  },
  {
   "cell_type": "markdown",
   "metadata": {},
   "source": [
    "### Series\n",
    "Series is a one-dimensional labeled array capable of holding data of any type (integer, string, float, python objects, etc.)."
   ]
  },
  {
   "cell_type": "code",
   "execution_count": 19,
   "metadata": {},
   "outputs": [
    {
     "data": {
      "text/plain": [
       "0      1\n",
       "1      3\n",
       "2      5\n",
       "3    str\n",
       "4    6.1\n",
       "dtype: object"
      ]
     },
     "execution_count": 19,
     "metadata": {},
     "output_type": "execute_result"
    }
   ],
   "source": [
    "import pandas as pd\n",
    "s = pd.Series([1,3,5,'str',6.1])\n",
    "s"
   ]
  },
  {
   "cell_type": "code",
   "execution_count": 20,
   "metadata": {},
   "outputs": [
    {
     "data": {
      "text/plain": [
       "0    0\n",
       "1    1\n",
       "2    2\n",
       "dtype: int64"
      ]
     },
     "execution_count": 20,
     "metadata": {},
     "output_type": "execute_result"
    }
   ],
   "source": [
    "s = pd.Series(range(3))\n",
    "s"
   ]
  },
  {
   "cell_type": "markdown",
   "metadata": {},
   "source": [
    "### DataFrame\n",
    "A Data frame is a 2D data structure, where data is aligned in a tabular fashion in rows and columns."
   ]
  },
  {
   "cell_type": "code",
   "execution_count": 21,
   "metadata": {},
   "outputs": [
    {
     "name": "stdout",
     "output_type": "stream",
     "text": [
      "          A         B         C         D\n",
      "0  0.738447  1.080987 -0.917871  0.938041\n",
      "1 -0.623283 -0.946206 -1.518223 -0.255585\n",
      "2  1.273193 -0.016428 -0.303638 -0.226786\n"
     ]
    }
   ],
   "source": [
    "df1 = pd.DataFrame(np.random.randn(3,4), columns=['A','B','C','D'])\n",
    "print(df1)"
   ]
  },
  {
   "cell_type": "code",
   "execution_count": 22,
   "metadata": {},
   "outputs": [
    {
     "data": {
      "text/html": [
       "<div>\n",
       "<style scoped>\n",
       "    .dataframe tbody tr th:only-of-type {\n",
       "        vertical-align: middle;\n",
       "    }\n",
       "\n",
       "    .dataframe tbody tr th {\n",
       "        vertical-align: top;\n",
       "    }\n",
       "\n",
       "    .dataframe thead th {\n",
       "        text-align: right;\n",
       "    }\n",
       "</style>\n",
       "<table border=\"1\" class=\"dataframe\">\n",
       "  <thead>\n",
       "    <tr style=\"text-align: right;\">\n",
       "      <th></th>\n",
       "      <th>A</th>\n",
       "      <th>B</th>\n",
       "      <th>C</th>\n",
       "      <th>D</th>\n",
       "    </tr>\n",
       "  </thead>\n",
       "  <tbody>\n",
       "    <tr>\n",
       "      <th>0</th>\n",
       "      <td>0.738447</td>\n",
       "      <td>1.080987</td>\n",
       "      <td>-0.917871</td>\n",
       "      <td>0.938041</td>\n",
       "    </tr>\n",
       "    <tr>\n",
       "      <th>1</th>\n",
       "      <td>-0.623283</td>\n",
       "      <td>-0.946206</td>\n",
       "      <td>-1.518223</td>\n",
       "      <td>-0.255585</td>\n",
       "    </tr>\n",
       "    <tr>\n",
       "      <th>2</th>\n",
       "      <td>1.273193</td>\n",
       "      <td>-0.016428</td>\n",
       "      <td>-0.303638</td>\n",
       "      <td>-0.226786</td>\n",
       "    </tr>\n",
       "  </tbody>\n",
       "</table>\n",
       "</div>"
      ],
      "text/plain": [
       "          A         B         C         D\n",
       "0  0.738447  1.080987 -0.917871  0.938041\n",
       "1 -0.623283 -0.946206 -1.518223 -0.255585\n",
       "2  1.273193 -0.016428 -0.303638 -0.226786"
      ]
     },
     "execution_count": 22,
     "metadata": {},
     "output_type": "execute_result"
    }
   ],
   "source": [
    "df1"
   ]
  },
  {
   "cell_type": "code",
   "execution_count": 23,
   "metadata": {},
   "outputs": [
    {
     "data": {
      "text/html": [
       "<div>\n",
       "<style scoped>\n",
       "    .dataframe tbody tr th:only-of-type {\n",
       "        vertical-align: middle;\n",
       "    }\n",
       "\n",
       "    .dataframe tbody tr th {\n",
       "        vertical-align: top;\n",
       "    }\n",
       "\n",
       "    .dataframe thead th {\n",
       "        text-align: right;\n",
       "    }\n",
       "</style>\n",
       "<table border=\"1\" class=\"dataframe\">\n",
       "  <thead>\n",
       "    <tr style=\"text-align: right;\">\n",
       "      <th></th>\n",
       "      <th>A</th>\n",
       "      <th>B</th>\n",
       "      <th>C</th>\n",
       "    </tr>\n",
       "  </thead>\n",
       "  <tbody>\n",
       "    <tr>\n",
       "      <th>0</th>\n",
       "      <td>1</td>\n",
       "      <td>0</td>\n",
       "      <td>Hello</td>\n",
       "    </tr>\n",
       "    <tr>\n",
       "      <th>1</th>\n",
       "      <td>1</td>\n",
       "      <td>1</td>\n",
       "      <td>Hello</td>\n",
       "    </tr>\n",
       "    <tr>\n",
       "      <th>2</th>\n",
       "      <td>1</td>\n",
       "      <td>2</td>\n",
       "      <td>Hello</td>\n",
       "    </tr>\n",
       "  </tbody>\n",
       "</table>\n",
       "</div>"
      ],
      "text/plain": [
       "   A  B      C\n",
       "0  1  0  Hello\n",
       "1  1  1  Hello\n",
       "2  1  2  Hello"
      ]
     },
     "execution_count": 23,
     "metadata": {},
     "output_type": "execute_result"
    }
   ],
   "source": [
    "df2 = pd.DataFrame({'A':1, 'B':np.arange(3), 'C':'Hello'})\n",
    "df2"
   ]
  },
  {
   "cell_type": "code",
   "execution_count": 24,
   "metadata": {},
   "outputs": [
    {
     "data": {
      "text/html": [
       "<div>\n",
       "<style scoped>\n",
       "    .dataframe tbody tr th:only-of-type {\n",
       "        vertical-align: middle;\n",
       "    }\n",
       "\n",
       "    .dataframe tbody tr th {\n",
       "        vertical-align: top;\n",
       "    }\n",
       "\n",
       "    .dataframe thead th {\n",
       "        text-align: right;\n",
       "    }\n",
       "</style>\n",
       "<table border=\"1\" class=\"dataframe\">\n",
       "  <thead>\n",
       "    <tr style=\"text-align: right;\">\n",
       "      <th></th>\n",
       "      <th>A</th>\n",
       "      <th>B</th>\n",
       "      <th>C</th>\n",
       "      <th>D</th>\n",
       "      <th>E</th>\n",
       "    </tr>\n",
       "  </thead>\n",
       "  <tbody>\n",
       "    <tr>\n",
       "      <th>0</th>\n",
       "      <td>0.828180</td>\n",
       "      <td>-0.797814</td>\n",
       "      <td>-1.266018</td>\n",
       "      <td>0.707084</td>\n",
       "      <td>-1.011089</td>\n",
       "    </tr>\n",
       "    <tr>\n",
       "      <th>1</th>\n",
       "      <td>-2.424754</td>\n",
       "      <td>1.860558</td>\n",
       "      <td>0.334354</td>\n",
       "      <td>-1.137992</td>\n",
       "      <td>0.271048</td>\n",
       "    </tr>\n",
       "    <tr>\n",
       "      <th>2</th>\n",
       "      <td>0.879616</td>\n",
       "      <td>1.128962</td>\n",
       "      <td>0.779180</td>\n",
       "      <td>-0.121240</td>\n",
       "      <td>-1.204958</td>\n",
       "    </tr>\n",
       "    <tr>\n",
       "      <th>3</th>\n",
       "      <td>-1.114732</td>\n",
       "      <td>-1.569894</td>\n",
       "      <td>-0.017670</td>\n",
       "      <td>-1.259541</td>\n",
       "      <td>-0.592882</td>\n",
       "    </tr>\n",
       "    <tr>\n",
       "      <th>4</th>\n",
       "      <td>-0.435665</td>\n",
       "      <td>-0.459891</td>\n",
       "      <td>-0.908328</td>\n",
       "      <td>-0.540685</td>\n",
       "      <td>-1.054029</td>\n",
       "    </tr>\n",
       "    <tr>\n",
       "      <th>5</th>\n",
       "      <td>0.187300</td>\n",
       "      <td>0.623774</td>\n",
       "      <td>-0.618745</td>\n",
       "      <td>0.541438</td>\n",
       "      <td>0.990823</td>\n",
       "    </tr>\n",
       "    <tr>\n",
       "      <th>6</th>\n",
       "      <td>-0.580636</td>\n",
       "      <td>-1.465300</td>\n",
       "      <td>-1.905776</td>\n",
       "      <td>-1.486758</td>\n",
       "      <td>-1.245909</td>\n",
       "    </tr>\n",
       "    <tr>\n",
       "      <th>7</th>\n",
       "      <td>-0.014368</td>\n",
       "      <td>-0.683845</td>\n",
       "      <td>-0.274539</td>\n",
       "      <td>-0.377423</td>\n",
       "      <td>-0.035931</td>\n",
       "    </tr>\n",
       "    <tr>\n",
       "      <th>8</th>\n",
       "      <td>0.835499</td>\n",
       "      <td>0.720072</td>\n",
       "      <td>-0.201252</td>\n",
       "      <td>1.592790</td>\n",
       "      <td>0.483071</td>\n",
       "    </tr>\n",
       "    <tr>\n",
       "      <th>9</th>\n",
       "      <td>-1.699335</td>\n",
       "      <td>-0.547593</td>\n",
       "      <td>-1.361964</td>\n",
       "      <td>-0.281972</td>\n",
       "      <td>0.067018</td>\n",
       "    </tr>\n",
       "  </tbody>\n",
       "</table>\n",
       "</div>"
      ],
      "text/plain": [
       "          A         B         C         D         E\n",
       "0  0.828180 -0.797814 -1.266018  0.707084 -1.011089\n",
       "1 -2.424754  1.860558  0.334354 -1.137992  0.271048\n",
       "2  0.879616  1.128962  0.779180 -0.121240 -1.204958\n",
       "3 -1.114732 -1.569894 -0.017670 -1.259541 -0.592882\n",
       "4 -0.435665 -0.459891 -0.908328 -0.540685 -1.054029\n",
       "5  0.187300  0.623774 -0.618745  0.541438  0.990823\n",
       "6 -0.580636 -1.465300 -1.905776 -1.486758 -1.245909\n",
       "7 -0.014368 -0.683845 -0.274539 -0.377423 -0.035931\n",
       "8  0.835499  0.720072 -0.201252  1.592790  0.483071\n",
       "9 -1.699335 -0.547593 -1.361964 -0.281972  0.067018"
      ]
     },
     "execution_count": 24,
     "metadata": {},
     "output_type": "execute_result"
    }
   ],
   "source": [
    "df1 = pd.DataFrame(np.random.randn(10,5), columns=['A','B','C','D', 'E'])\n",
    "df1"
   ]
  },
  {
   "cell_type": "code",
   "execution_count": 25,
   "metadata": {},
   "outputs": [
    {
     "data": {
      "text/html": [
       "<div>\n",
       "<style scoped>\n",
       "    .dataframe tbody tr th:only-of-type {\n",
       "        vertical-align: middle;\n",
       "    }\n",
       "\n",
       "    .dataframe tbody tr th {\n",
       "        vertical-align: top;\n",
       "    }\n",
       "\n",
       "    .dataframe thead th {\n",
       "        text-align: right;\n",
       "    }\n",
       "</style>\n",
       "<table border=\"1\" class=\"dataframe\">\n",
       "  <thead>\n",
       "    <tr style=\"text-align: right;\">\n",
       "      <th></th>\n",
       "      <th>A</th>\n",
       "      <th>B</th>\n",
       "      <th>C</th>\n",
       "      <th>D</th>\n",
       "      <th>E</th>\n",
       "    </tr>\n",
       "  </thead>\n",
       "  <tbody>\n",
       "    <tr>\n",
       "      <th>0</th>\n",
       "      <td>0.828180</td>\n",
       "      <td>-0.797814</td>\n",
       "      <td>-1.266018</td>\n",
       "      <td>0.707084</td>\n",
       "      <td>-1.011089</td>\n",
       "    </tr>\n",
       "    <tr>\n",
       "      <th>1</th>\n",
       "      <td>-2.424754</td>\n",
       "      <td>1.860558</td>\n",
       "      <td>0.334354</td>\n",
       "      <td>-1.137992</td>\n",
       "      <td>0.271048</td>\n",
       "    </tr>\n",
       "    <tr>\n",
       "      <th>2</th>\n",
       "      <td>0.879616</td>\n",
       "      <td>1.128962</td>\n",
       "      <td>0.779180</td>\n",
       "      <td>-0.121240</td>\n",
       "      <td>-1.204958</td>\n",
       "    </tr>\n",
       "  </tbody>\n",
       "</table>\n",
       "</div>"
      ],
      "text/plain": [
       "          A         B         C         D         E\n",
       "0  0.828180 -0.797814 -1.266018  0.707084 -1.011089\n",
       "1 -2.424754  1.860558  0.334354 -1.137992  0.271048\n",
       "2  0.879616  1.128962  0.779180 -0.121240 -1.204958"
      ]
     },
     "execution_count": 25,
     "metadata": {},
     "output_type": "execute_result"
    }
   ],
   "source": [
    "df1.head(3)"
   ]
  },
  {
   "cell_type": "code",
   "execution_count": 26,
   "metadata": {},
   "outputs": [
    {
     "data": {
      "text/html": [
       "<div>\n",
       "<style scoped>\n",
       "    .dataframe tbody tr th:only-of-type {\n",
       "        vertical-align: middle;\n",
       "    }\n",
       "\n",
       "    .dataframe tbody tr th {\n",
       "        vertical-align: top;\n",
       "    }\n",
       "\n",
       "    .dataframe thead th {\n",
       "        text-align: right;\n",
       "    }\n",
       "</style>\n",
       "<table border=\"1\" class=\"dataframe\">\n",
       "  <thead>\n",
       "    <tr style=\"text-align: right;\">\n",
       "      <th></th>\n",
       "      <th>A</th>\n",
       "      <th>B</th>\n",
       "      <th>C</th>\n",
       "      <th>D</th>\n",
       "      <th>E</th>\n",
       "    </tr>\n",
       "  </thead>\n",
       "  <tbody>\n",
       "    <tr>\n",
       "      <th>7</th>\n",
       "      <td>-0.014368</td>\n",
       "      <td>-0.683845</td>\n",
       "      <td>-0.274539</td>\n",
       "      <td>-0.377423</td>\n",
       "      <td>-0.035931</td>\n",
       "    </tr>\n",
       "    <tr>\n",
       "      <th>8</th>\n",
       "      <td>0.835499</td>\n",
       "      <td>0.720072</td>\n",
       "      <td>-0.201252</td>\n",
       "      <td>1.592790</td>\n",
       "      <td>0.483071</td>\n",
       "    </tr>\n",
       "    <tr>\n",
       "      <th>9</th>\n",
       "      <td>-1.699335</td>\n",
       "      <td>-0.547593</td>\n",
       "      <td>-1.361964</td>\n",
       "      <td>-0.281972</td>\n",
       "      <td>0.067018</td>\n",
       "    </tr>\n",
       "  </tbody>\n",
       "</table>\n",
       "</div>"
      ],
      "text/plain": [
       "          A         B         C         D         E\n",
       "7 -0.014368 -0.683845 -0.274539 -0.377423 -0.035931\n",
       "8  0.835499  0.720072 -0.201252  1.592790  0.483071\n",
       "9 -1.699335 -0.547593 -1.361964 -0.281972  0.067018"
      ]
     },
     "execution_count": 26,
     "metadata": {},
     "output_type": "execute_result"
    }
   ],
   "source": [
    "df1.tail(3)"
   ]
  },
  {
   "cell_type": "code",
   "execution_count": 27,
   "metadata": {},
   "outputs": [
    {
     "data": {
      "text/plain": [
       "RangeIndex(start=0, stop=10, step=1)"
      ]
     },
     "execution_count": 27,
     "metadata": {},
     "output_type": "execute_result"
    }
   ],
   "source": [
    "df1.index"
   ]
  },
  {
   "cell_type": "code",
   "execution_count": 28,
   "metadata": {},
   "outputs": [
    {
     "data": {
      "text/plain": [
       "Index(['A', 'B', 'C', 'D', 'E'], dtype='object')"
      ]
     },
     "execution_count": 28,
     "metadata": {},
     "output_type": "execute_result"
    }
   ],
   "source": [
    "df1.columns"
   ]
  },
  {
   "cell_type": "code",
   "execution_count": 29,
   "metadata": {},
   "outputs": [
    {
     "data": {
      "text/plain": [
       "array([[ 0.82818036, -0.7978145 , -1.26601762,  0.70708406, -1.0110886 ],\n",
       "       [-2.42475382,  1.86055768,  0.33435408, -1.1379916 ,  0.27104832],\n",
       "       [ 0.87961629,  1.12896196,  0.77917965, -0.12123983, -1.20495778],\n",
       "       [-1.11473208, -1.56989414, -0.01766993, -1.25954123, -0.59288199],\n",
       "       [-0.43566452, -0.45989085, -0.90832764, -0.54068523, -1.05402872],\n",
       "       [ 0.18730028,  0.62377441, -0.61874527,  0.54143787,  0.99082336],\n",
       "       [-0.58063561, -1.46529995, -1.90577559, -1.48675838, -1.24590892],\n",
       "       [-0.01436803, -0.68384506, -0.27453855, -0.37742253, -0.03593064],\n",
       "       [ 0.83549861,  0.72007199, -0.20125176,  1.59278976,  0.48307135],\n",
       "       [-1.69933527, -0.54759311, -1.36196422, -0.28197239,  0.06701759]])"
      ]
     },
     "execution_count": 29,
     "metadata": {},
     "output_type": "execute_result"
    }
   ],
   "source": [
    "df1.values"
   ]
  },
  {
   "cell_type": "code",
   "execution_count": 30,
   "metadata": {},
   "outputs": [
    {
     "data": {
      "text/plain": [
       "numpy.ndarray"
      ]
     },
     "execution_count": 30,
     "metadata": {},
     "output_type": "execute_result"
    }
   ],
   "source": [
    "type(df1.values)"
   ]
  },
  {
   "cell_type": "markdown",
   "metadata": {},
   "source": [
    "#### Convert Between NumPy and Pandas\n",
    "\n",
    "You can convert between Pandas DataFrame/Series and NumPy ndarray very easily"
   ]
  },
  {
   "cell_type": "code",
   "execution_count": 32,
   "metadata": {},
   "outputs": [
    {
     "data": {
      "text/plain": [
       "array([[ 0.82818036, -0.7978145 , -1.26601762,  0.70708406, -1.0110886 ],\n",
       "       [-2.42475382,  1.86055768,  0.33435408, -1.1379916 ,  0.27104832],\n",
       "       [ 0.87961629,  1.12896196,  0.77917965, -0.12123983, -1.20495778],\n",
       "       [-1.11473208, -1.56989414, -0.01766993, -1.25954123, -0.59288199],\n",
       "       [-0.43566452, -0.45989085, -0.90832764, -0.54068523, -1.05402872],\n",
       "       [ 0.18730028,  0.62377441, -0.61874527,  0.54143787,  0.99082336],\n",
       "       [-0.58063561, -1.46529995, -1.90577559, -1.48675838, -1.24590892],\n",
       "       [-0.01436803, -0.68384506, -0.27453855, -0.37742253, -0.03593064],\n",
       "       [ 0.83549861,  0.72007199, -0.20125176,  1.59278976,  0.48307135],\n",
       "       [-1.69933527, -0.54759311, -1.36196422, -0.28197239,  0.06701759]])"
      ]
     },
     "execution_count": 32,
     "metadata": {},
     "output_type": "execute_result"
    }
   ],
   "source": [
    "a1 = np.array(df1)\n",
    "a1"
   ]
  },
  {
   "cell_type": "code",
   "execution_count": 33,
   "metadata": {},
   "outputs": [
    {
     "data": {
      "text/plain": [
       "dtype('float64')"
      ]
     },
     "execution_count": 33,
     "metadata": {},
     "output_type": "execute_result"
    }
   ],
   "source": [
    "a1.dtype"
   ]
  },
  {
   "cell_type": "code",
   "execution_count": 34,
   "metadata": {},
   "outputs": [
    {
     "data": {
      "text/plain": [
       "array([[1, 0, 'Hello'],\n",
       "       [1, 1, 'Hello'],\n",
       "       [1, 2, 'Hello']], dtype=object)"
      ]
     },
     "execution_count": 34,
     "metadata": {},
     "output_type": "execute_result"
    }
   ],
   "source": [
    "a2 = np.array(df2)\n",
    "a2"
   ]
  },
  {
   "cell_type": "code",
   "execution_count": 35,
   "metadata": {},
   "outputs": [
    {
     "data": {
      "text/plain": [
       "array([[1, 0, 'Hello'],\n",
       "       [1, 1, 'Hello'],\n",
       "       [1, 2, 'Hello']], dtype=object)"
      ]
     },
     "execution_count": 35,
     "metadata": {},
     "output_type": "execute_result"
    }
   ],
   "source": [
    "df2.values"
   ]
  },
  {
   "cell_type": "code",
   "execution_count": 36,
   "metadata": {},
   "outputs": [
    {
     "data": {
      "text/html": [
       "<div>\n",
       "<style scoped>\n",
       "    .dataframe tbody tr th:only-of-type {\n",
       "        vertical-align: middle;\n",
       "    }\n",
       "\n",
       "    .dataframe tbody tr th {\n",
       "        vertical-align: top;\n",
       "    }\n",
       "\n",
       "    .dataframe thead th {\n",
       "        text-align: right;\n",
       "    }\n",
       "</style>\n",
       "<table border=\"1\" class=\"dataframe\">\n",
       "  <thead>\n",
       "    <tr style=\"text-align: right;\">\n",
       "      <th></th>\n",
       "      <th>0</th>\n",
       "      <th>1</th>\n",
       "      <th>2</th>\n",
       "      <th>3</th>\n",
       "      <th>4</th>\n",
       "    </tr>\n",
       "  </thead>\n",
       "  <tbody>\n",
       "    <tr>\n",
       "      <th>0</th>\n",
       "      <td>0.828180</td>\n",
       "      <td>-0.797814</td>\n",
       "      <td>-1.266018</td>\n",
       "      <td>0.707084</td>\n",
       "      <td>-1.011089</td>\n",
       "    </tr>\n",
       "    <tr>\n",
       "      <th>1</th>\n",
       "      <td>-2.424754</td>\n",
       "      <td>1.860558</td>\n",
       "      <td>0.334354</td>\n",
       "      <td>-1.137992</td>\n",
       "      <td>0.271048</td>\n",
       "    </tr>\n",
       "    <tr>\n",
       "      <th>2</th>\n",
       "      <td>0.879616</td>\n",
       "      <td>1.128962</td>\n",
       "      <td>0.779180</td>\n",
       "      <td>-0.121240</td>\n",
       "      <td>-1.204958</td>\n",
       "    </tr>\n",
       "    <tr>\n",
       "      <th>3</th>\n",
       "      <td>-1.114732</td>\n",
       "      <td>-1.569894</td>\n",
       "      <td>-0.017670</td>\n",
       "      <td>-1.259541</td>\n",
       "      <td>-0.592882</td>\n",
       "    </tr>\n",
       "    <tr>\n",
       "      <th>4</th>\n",
       "      <td>-0.435665</td>\n",
       "      <td>-0.459891</td>\n",
       "      <td>-0.908328</td>\n",
       "      <td>-0.540685</td>\n",
       "      <td>-1.054029</td>\n",
       "    </tr>\n",
       "    <tr>\n",
       "      <th>5</th>\n",
       "      <td>0.187300</td>\n",
       "      <td>0.623774</td>\n",
       "      <td>-0.618745</td>\n",
       "      <td>0.541438</td>\n",
       "      <td>0.990823</td>\n",
       "    </tr>\n",
       "    <tr>\n",
       "      <th>6</th>\n",
       "      <td>-0.580636</td>\n",
       "      <td>-1.465300</td>\n",
       "      <td>-1.905776</td>\n",
       "      <td>-1.486758</td>\n",
       "      <td>-1.245909</td>\n",
       "    </tr>\n",
       "    <tr>\n",
       "      <th>7</th>\n",
       "      <td>-0.014368</td>\n",
       "      <td>-0.683845</td>\n",
       "      <td>-0.274539</td>\n",
       "      <td>-0.377423</td>\n",
       "      <td>-0.035931</td>\n",
       "    </tr>\n",
       "    <tr>\n",
       "      <th>8</th>\n",
       "      <td>0.835499</td>\n",
       "      <td>0.720072</td>\n",
       "      <td>-0.201252</td>\n",
       "      <td>1.592790</td>\n",
       "      <td>0.483071</td>\n",
       "    </tr>\n",
       "    <tr>\n",
       "      <th>9</th>\n",
       "      <td>-1.699335</td>\n",
       "      <td>-0.547593</td>\n",
       "      <td>-1.361964</td>\n",
       "      <td>-0.281972</td>\n",
       "      <td>0.067018</td>\n",
       "    </tr>\n",
       "  </tbody>\n",
       "</table>\n",
       "</div>"
      ],
      "text/plain": [
       "          0         1         2         3         4\n",
       "0  0.828180 -0.797814 -1.266018  0.707084 -1.011089\n",
       "1 -2.424754  1.860558  0.334354 -1.137992  0.271048\n",
       "2  0.879616  1.128962  0.779180 -0.121240 -1.204958\n",
       "3 -1.114732 -1.569894 -0.017670 -1.259541 -0.592882\n",
       "4 -0.435665 -0.459891 -0.908328 -0.540685 -1.054029\n",
       "5  0.187300  0.623774 -0.618745  0.541438  0.990823\n",
       "6 -0.580636 -1.465300 -1.905776 -1.486758 -1.245909\n",
       "7 -0.014368 -0.683845 -0.274539 -0.377423 -0.035931\n",
       "8  0.835499  0.720072 -0.201252  1.592790  0.483071\n",
       "9 -1.699335 -0.547593 -1.361964 -0.281972  0.067018"
      ]
     },
     "execution_count": 36,
     "metadata": {},
     "output_type": "execute_result"
    }
   ],
   "source": [
    "pd.DataFrame(a1)"
   ]
  },
  {
   "cell_type": "code",
   "execution_count": 37,
   "metadata": {},
   "outputs": [
    {
     "data": {
      "text/plain": [
       "0    0\n",
       "1    1\n",
       "2    2\n",
       "dtype: object"
      ]
     },
     "execution_count": 37,
     "metadata": {},
     "output_type": "execute_result"
    }
   ],
   "source": [
    "pd.Series(a2[:,1])"
   ]
  },
  {
   "cell_type": "markdown",
   "metadata": {},
   "source": [
    "[[top](#top)]\n",
    "\n",
    "----"
   ]
  }
 ],
 "metadata": {
  "kernelspec": {
   "display_name": "myenv",
   "language": "python",
   "name": "myenv"
  },
  "language_info": {
   "codemirror_mode": {
    "name": "ipython",
    "version": 3
   },
   "file_extension": ".py",
   "mimetype": "text/x-python",
   "name": "python",
   "nbconvert_exporter": "python",
   "pygments_lexer": "ipython3",
   "version": "3.8.2"
  }
 },
 "nbformat": 4,
 "nbformat_minor": 4
}
