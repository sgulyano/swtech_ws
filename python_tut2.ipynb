{
 "cells": [
  {
   "cell_type": "markdown",
   "metadata": {},
   "source": [
    "<a name=\"top\"></a>\n",
    "# Python Workshop 2\n",
    "To help you deal with complex codes, Python allows you to bundle codes together to make your code more organized and improve code reusability. There are three main levels of doing this:\n",
    "1. [Function](#function)\n",
    "2. [Class](#class)\n",
    "3. [Module](#module)\n",
    "\n",
    "At the end, we will look at [NumPy](#numpy), which is one of the most popular package for data analysts these days.\n",
    "\n",
    "<a name=\"function\"></a>\n",
    "## 1. Function\n",
    "A function is a section of program that performs a specific task. To use functions, **define** then **call** them. Python uses indentation to indicate the section."
   ]
  },
  {
   "cell_type": "code",
   "execution_count": 1,
   "metadata": {},
   "outputs": [
    {
     "name": "stdout",
     "output_type": "stream",
     "text": [
      "Speak\n",
      "hi\n",
      "Yo!\n"
     ]
    }
   ],
   "source": [
    "def speak():\n",
    "    print(\"Speak\")\n",
    "    print(\"hi\")\n",
    "    print(\"Yo!\")\n",
    "\n",
    "speak()"
   ]
  },
  {
   "cell_type": "markdown",
   "metadata": {},
   "source": [
    "### Parameters and Arguments\n",
    "You can pass data to a function but you must specify them in the function definition. These input(s) are called **parameters**. When we call a function that requires parameter(s), we must provide input values/variables, called **arguments**."
   ]
  },
  {
   "cell_type": "code",
   "execution_count": 2,
   "metadata": {},
   "outputs": [
    {
     "name": "stdin",
     "output_type": "stream",
     "text": [
      "Name  Sarun\n"
     ]
    },
    {
     "name": "stdout",
     "output_type": "stream",
     "text": [
      "Hello! Sarun\n"
     ]
    }
   ],
   "source": [
    "def speak(name):\n",
    "    print(\"Hello!\", name)\n",
    "\n",
    "name = input(\"Name \")\n",
    "speak(name)"
   ]
  },
  {
   "cell_type": "code",
   "execution_count": 3,
   "metadata": {},
   "outputs": [
    {
     "name": "stdout",
     "output_type": "stream",
     "text": [
      "Hello! John Doe\n"
     ]
    }
   ],
   "source": [
    "def speak(name = 'John Doe'):\n",
    "    print(\"Hello!\", name)\n",
    "\n",
    "speak()"
   ]
  },
  {
   "cell_type": "markdown",
   "metadata": {},
   "source": [
    "### Return Values\n",
    "Functions can also send back results using `return` statement."
   ]
  },
  {
   "cell_type": "code",
   "execution_count": 4,
   "metadata": {},
   "outputs": [
    {
     "name": "stdin",
     "output_type": "stream",
     "text": [
      "input a number to sum :  10\n",
      "input b number to sum :  20\n"
     ]
    },
    {
     "name": "stdout",
     "output_type": "stream",
     "text": [
      "summation is :  30\n"
     ]
    }
   ],
   "source": [
    "def mysum(a,b):\n",
    "    summation = a+b\n",
    "    return summation\n",
    "\n",
    "a = int(input(\"input a number to sum : \"))\n",
    "b = int(input(\"input b number to sum : \"))\n",
    "\n",
    "summation = mysum(a,b)\n",
    "print(\"summation is : \",summation)"
   ]
  },
  {
   "cell_type": "markdown",
   "metadata": {},
   "source": [
    "### Pass Function as Parameter"
   ]
  },
  {
   "cell_type": "code",
   "execution_count": 7,
   "metadata": {},
   "outputs": [
    {
     "name": "stdout",
     "output_type": "stream",
     "text": [
      "6\n",
      "3\n"
     ]
    }
   ],
   "source": [
    "def f1(arr, f):\n",
    "    return f(arr)\n",
    "\n",
    "a = [1,2,3]\n",
    "print(f1(a, sum))\n",
    "print(f1(a, max))"
   ]
  },
  {
   "cell_type": "markdown",
   "metadata": {},
   "source": [
    "### Function as Variable"
   ]
  },
  {
   "cell_type": "code",
   "execution_count": 8,
   "metadata": {},
   "outputs": [
    {
     "name": "stdout",
     "output_type": "stream",
     "text": [
      "6\n",
      "3\n"
     ]
    }
   ],
   "source": [
    "b = sum\n",
    "print(f1(a, b))\n",
    "b = max\n",
    "print(f1(a, b))"
   ]
  },
  {
   "cell_type": "markdown",
   "metadata": {},
   "source": [
    "### Functions as return values"
   ]
  },
  {
   "cell_type": "code",
   "execution_count": 9,
   "metadata": {},
   "outputs": [
    {
     "name": "stdout",
     "output_type": "stream",
     "text": [
      "100\n",
      "1000\n"
     ]
    }
   ],
   "source": [
    "def f1(a):\n",
    "    def f2(b):\n",
    "        return b**a\n",
    "    return f2\n",
    "\n",
    "sq = f1(2)\n",
    "x = sq(10)\n",
    "print(x)\n",
    "cube = f1(3)\n",
    "y = cube(10)\n",
    "print(y)"
   ]
  },
  {
   "cell_type": "markdown",
   "metadata": {},
   "source": [
    "### Generators\n",
    "\n",
    "Generators are iterators, but you can only iterate over them once. It’s because they do not store all the values in memory, they generate the values on the fly. "
   ]
  },
  {
   "cell_type": "code",
   "execution_count": 68,
   "metadata": {},
   "outputs": [],
   "source": [
    "# generator version\n",
    "def fibon():\n",
    "    a = b = 1\n",
    "    while(True):\n",
    "        yield a\n",
    "        a, b = b, a + b"
   ]
  },
  {
   "cell_type": "code",
   "execution_count": 69,
   "metadata": {},
   "outputs": [
    {
     "name": "stdout",
     "output_type": "stream",
     "text": [
      "1\n",
      "1\n",
      "2\n",
      "3\n",
      "5\n",
      "8\n",
      "13\n",
      "21\n",
      "34\n",
      "55\n",
      "89\n",
      "144\n",
      "233\n",
      "377\n",
      "610\n",
      "987\n",
      "1597\n",
      "2584\n",
      "4181\n",
      "6765\n"
     ]
    }
   ],
   "source": [
    "for x in fibon():\n",
    "    print(x)\n",
    "    if x > 5000:\n",
    "        break"
   ]
  },
  {
   "cell_type": "code",
   "execution_count": 98,
   "metadata": {},
   "outputs": [
    {
     "data": {
      "text/plain": [
       "2584"
      ]
     },
     "execution_count": 98,
     "metadata": {},
     "output_type": "execute_result"
    }
   ],
   "source": [
    "x = fibon()\n",
    "next(x)"
   ]
  },
  {
   "cell_type": "code",
   "execution_count": null,
   "metadata": {},
   "outputs": [],
   "source": [
    "next(x)"
   ]
  },
  {
   "cell_type": "markdown",
   "metadata": {},
   "source": [
    "### Decorators\n",
    "\n",
    "A decorator is a design pattern in Python that allows a user to add new functionality to an existing object without modifying its structure. "
   ]
  },
  {
   "cell_type": "code",
   "execution_count": 10,
   "metadata": {},
   "outputs": [],
   "source": [
    "def uppercase_decorator(function):\n",
    "    def wrapper():\n",
    "        func = function()\n",
    "        make_uppercase = func.upper()\n",
    "        return make_uppercase\n",
    "\n",
    "    return wrapper"
   ]
  },
  {
   "cell_type": "code",
   "execution_count": 11,
   "metadata": {},
   "outputs": [
    {
     "data": {
      "text/plain": [
       "'hello there'"
      ]
     },
     "execution_count": 11,
     "metadata": {},
     "output_type": "execute_result"
    }
   ],
   "source": [
    "def say_hi():\n",
    "    return 'hello there'\n",
    "\n",
    "say_hi()"
   ]
  },
  {
   "cell_type": "code",
   "execution_count": 12,
   "metadata": {},
   "outputs": [
    {
     "data": {
      "text/plain": [
       "'HELLO THERE'"
      ]
     },
     "execution_count": 12,
     "metadata": {},
     "output_type": "execute_result"
    }
   ],
   "source": [
    "decorate = uppercase_decorator(say_hi)\n",
    "decorate()"
   ]
  },
  {
   "cell_type": "code",
   "execution_count": 13,
   "metadata": {},
   "outputs": [
    {
     "data": {
      "text/plain": [
       "'HELLO THERE'"
      ]
     },
     "execution_count": 13,
     "metadata": {},
     "output_type": "execute_result"
    }
   ],
   "source": [
    "@uppercase_decorator\n",
    "def say_hi():\n",
    "    return 'hello there'\n",
    "\n",
    "say_hi()"
   ]
  },
  {
   "cell_type": "code",
   "execution_count": 14,
   "metadata": {},
   "outputs": [],
   "source": [
    "def split_string(function):\n",
    "    def wrapper():\n",
    "        func = function()\n",
    "        splitted_string = func.split()\n",
    "        return splitted_string\n",
    "\n",
    "    return wrapper"
   ]
  },
  {
   "cell_type": "code",
   "execution_count": 15,
   "metadata": {},
   "outputs": [
    {
     "data": {
      "text/plain": [
       "['HELLO', 'THERE']"
      ]
     },
     "execution_count": 15,
     "metadata": {},
     "output_type": "execute_result"
    }
   ],
   "source": [
    "@split_string\n",
    "@uppercase_decorator\n",
    "def say_hi():\n",
    "    return 'hello there'\n",
    "say_hi()"
   ]
  },
  {
   "cell_type": "code",
   "execution_count": 16,
   "metadata": {},
   "outputs": [],
   "source": [
    "def case_decorator(f):\n",
    "    def decorator(function):\n",
    "        def wrapper():\n",
    "            res = function()\n",
    "            return f(res)\n",
    "        return wrapper\n",
    "    return decorator"
   ]
  },
  {
   "cell_type": "code",
   "execution_count": 17,
   "metadata": {},
   "outputs": [
    {
     "data": {
      "text/plain": [
       "'hello there'"
      ]
     },
     "execution_count": 17,
     "metadata": {},
     "output_type": "execute_result"
    }
   ],
   "source": [
    "@case_decorator(str.lower)\n",
    "def say_hi():\n",
    "    return 'hello there'\n",
    "say_hi()"
   ]
  },
  {
   "cell_type": "code",
   "execution_count": 18,
   "metadata": {},
   "outputs": [
    {
     "data": {
      "text/plain": [
       "'HELLO THERE'"
      ]
     },
     "execution_count": 18,
     "metadata": {},
     "output_type": "execute_result"
    }
   ],
   "source": [
    "@case_decorator(str.upper)\n",
    "def say_hi():\n",
    "    return 'hello there'\n",
    "say_hi()"
   ]
  },
  {
   "cell_type": "markdown",
   "metadata": {},
   "source": [
    "### Tips and Tricks"
   ]
  },
  {
   "cell_type": "markdown",
   "metadata": {},
   "source": [
    "You can pass multiple values stored in list as arguments by using asterisk (*)."
   ]
  },
  {
   "cell_type": "code",
   "execution_count": 19,
   "metadata": {},
   "outputs": [
    {
     "data": {
      "text/plain": [
       "5"
      ]
     },
     "execution_count": 19,
     "metadata": {},
     "output_type": "execute_result"
    }
   ],
   "source": [
    "arr = [2, 3]\n",
    "mysum(*arr)"
   ]
  },
  {
   "cell_type": "markdown",
   "metadata": {},
   "source": [
    "Or make a function that can accept any number of parameters and store them as a list."
   ]
  },
  {
   "cell_type": "code",
   "execution_count": 20,
   "metadata": {},
   "outputs": [
    {
     "name": "stdout",
     "output_type": "stream",
     "text": [
      "15\n",
      "10\n"
     ]
    }
   ],
   "source": [
    "def arrsum(*arr):\n",
    "    return sum(arr)\n",
    "\n",
    "print(arrsum(1,2,3,4,5))\n",
    "print(arrsum(1,2,3,4))"
   ]
  },
  {
   "cell_type": "markdown",
   "metadata": {},
   "source": [
    "You can pass specific parameters to a function using `dict` and double asterisks (**)."
   ]
  },
  {
   "cell_type": "code",
   "execution_count": 21,
   "metadata": {},
   "outputs": [
    {
     "data": {
      "text/plain": [
       "2.0"
      ]
     },
     "execution_count": 21,
     "metadata": {},
     "output_type": "execute_result"
    }
   ],
   "source": [
    "def mydiv(a, b):\n",
    "    return a/b\n",
    "\n",
    "params = {'a':10, 'b':5}\n",
    "mydiv(**params)"
   ]
  },
  {
   "cell_type": "markdown",
   "metadata": {},
   "source": [
    "Or make a function that can accept any number of parameters with specified names and store them as `dict`."
   ]
  },
  {
   "cell_type": "code",
   "execution_count": 22,
   "metadata": {},
   "outputs": [
    {
     "name": "stdout",
     "output_type": "stream",
     "text": [
      "{'a': 10, 'b': 20, 'c': 30}\n"
     ]
    },
    {
     "data": {
      "text/plain": [
       "0.5"
      ]
     },
     "execution_count": 22,
     "metadata": {},
     "output_type": "execute_result"
    }
   ],
   "source": [
    "def pdiv(**p):\n",
    "    print(p)\n",
    "    return p['a']/p['b']\n",
    "\n",
    "pdiv(a=10, b=20, c=30)"
   ]
  },
  {
   "cell_type": "markdown",
   "metadata": {},
   "source": [
    "[[top](#top)]"
   ]
  },
  {
   "cell_type": "markdown",
   "metadata": {},
   "source": [
    "<a name=\"class\"></a>\n",
    "## 2. Class\n",
    "Class allows you to bundle both variables and functions into a self-contained reusable unit. It helps us tackle problems at the abstract level by a) treating any component relevant to the problem as an object; and b) representing any relationship through a function.\n",
    "\n",
    "First we must define a **class**, which is like a blueprint of a thing using `class` keyword: "
   ]
  },
  {
   "cell_type": "code",
   "execution_count": 23,
   "metadata": {},
   "outputs": [],
   "source": [
    "class Employee:\n",
    "    def __init__(self, name, dept, salary=1000):\n",
    "        self.name = name\n",
    "        self.dept = dept\n",
    "        self.salary = salary\n",
    "    \n",
    "    def show_record(self):\n",
    "        print('Name: {}\\nDepartment: {}\\nSalary: {}$'\n",
    "                .format(self.name, self.dept, self.salary))"
   ]
  },
  {
   "cell_type": "markdown",
   "metadata": {},
   "source": [
    "Then, we must create an instance of a class, called **object**."
   ]
  },
  {
   "cell_type": "code",
   "execution_count": 24,
   "metadata": {},
   "outputs": [
    {
     "name": "stdout",
     "output_type": "stream",
     "text": [
      "Name: Sarun Gulyanon\n",
      "Department: Sales\n",
      "Salary: 1000$\n"
     ]
    }
   ],
   "source": [
    "mrA = Employee('Sarun Gulyanon', 'Sales')\n",
    "mrA.show_record()"
   ]
  },
  {
   "cell_type": "markdown",
   "metadata": {},
   "source": [
    "`__init__` function is a constructor. It defines how to create an object. `self` variable represents the instance of the object itself. We can access variables or functions belonging to a class (called \"attributes\") using this expression: `obj.name`."
   ]
  },
  {
   "cell_type": "markdown",
   "metadata": {},
   "source": [
    "### Class and Instance Variables\n",
    "\n",
    "Instance variables are for data unique to each instance and class variables are for attributes and methods shared by all instances of the class:"
   ]
  },
  {
   "cell_type": "code",
   "execution_count": 25,
   "metadata": {},
   "outputs": [],
   "source": [
    "class Dog:\n",
    "    kind = 'canine'         # class variable shared by all instances\n",
    "\n",
    "    def __init__(self, name):\n",
    "        self.name = name    # instance variable unique to each instance\n",
    "\n",
    "d = Dog('Fido')\n",
    "e = Dog('Buddy')"
   ]
  },
  {
   "cell_type": "code",
   "execution_count": 26,
   "metadata": {},
   "outputs": [
    {
     "name": "stdout",
     "output_type": "stream",
     "text": [
      "canine\n",
      "canine\n"
     ]
    }
   ],
   "source": [
    "print(d.kind)\n",
    "print(e.kind)"
   ]
  },
  {
   "cell_type": "code",
   "execution_count": 27,
   "metadata": {},
   "outputs": [
    {
     "name": "stdout",
     "output_type": "stream",
     "text": [
      "Fido\n",
      "Buddy\n"
     ]
    }
   ],
   "source": [
    "print(d.name)\n",
    "print(e.name)"
   ]
  },
  {
   "cell_type": "markdown",
   "metadata": {},
   "source": [
    "### Inheritance\n",
    "\n",
    "Inheritance allows us to define a class that inherits (have) all the methods and properties from another class."
   ]
  },
  {
   "cell_type": "code",
   "execution_count": 28,
   "metadata": {},
   "outputs": [
    {
     "name": "stdout",
     "output_type": "stream",
     "text": [
      "Name: Mike\tDepartment: Production\tSalary: 1000$\n"
     ]
    }
   ],
   "source": [
    "class Specialist(Employee):\n",
    "    def show_record(self):\n",
    "        print('Name: {}\\tDepartment: {}\\tSalary: {}$'\n",
    "                .format(self.name, self.dept, self.salary))\n",
    "\n",
    "x = Specialist(\"Mike\", \"Production\")\n",
    "x.show_record()"
   ]
  },
  {
   "cell_type": "code",
   "execution_count": 29,
   "metadata": {},
   "outputs": [
    {
     "data": {
      "text/plain": [
       "__main__.Specialist"
      ]
     },
     "execution_count": 29,
     "metadata": {},
     "output_type": "execute_result"
    }
   ],
   "source": [
    "type(x)"
   ]
  },
  {
   "cell_type": "markdown",
   "metadata": {},
   "source": [
    "### Private Variables\n",
    "\n",
    "Private instance variables that cannot be accessed except from inside an object **don’t exist** in Python. However, there is a convention that is followed by most Python code: \n",
    "* A name prefixed with an underscore (e.g. `_spam`) should be treated as a non-public part of the API (whether it is a function, a method or a data member).\n",
    "* A name with at least two leading underscores, and at most one trailing underscore (e.g. `__spam`) should be treated as the class-private members. It is textually replaced with `_classname__spam`, where classname is the current class name with leading underscore(s) stripped. This is called `name mangling` and it is done without regard to the syntactic position of the identifier, as long as it occurs within the definition of a class."
   ]
  },
  {
   "cell_type": "code",
   "execution_count": 30,
   "metadata": {},
   "outputs": [
    {
     "name": "stdout",
     "output_type": "stream",
     "text": [
      "123\n"
     ]
    }
   ],
   "source": [
    "class A:\n",
    "    def __init__(self):\n",
    "        self.__var = 123\n",
    "        self._msg = 'book'\n",
    "\n",
    "    def printVar(self):\n",
    "        print(self.__var)\n",
    "a = A()\n",
    "a.printVar()"
   ]
  },
  {
   "cell_type": "code",
   "execution_count": 31,
   "metadata": {},
   "outputs": [
    {
     "name": "stdout",
     "output_type": "stream",
     "text": [
      "book\n"
     ]
    }
   ],
   "source": [
    "print(a._msg)"
   ]
  },
  {
   "cell_type": "markdown",
   "metadata": {},
   "source": [
    "[[top](#top)]"
   ]
  },
  {
   "cell_type": "markdown",
   "metadata": {},
   "source": [
    "<a name=\"module\"></a>\n",
    "## 3. Module\n",
    "A module is like a code library. Functions and Classes bundles codes within the same file but Modules separate codes into different files for better organization and reusability. There are 3 types of modules:\n",
    "1. [Built-in module](#builtin)\n",
    "2. [Customized module](#customized)\n",
    "3. [External module](#external)"
   ]
  },
  {
   "cell_type": "markdown",
   "metadata": {},
   "source": [
    "<a name=\"builtin\"></a>\n",
    "### 3.1. Built-in Module\n",
    "Built-in module or Python standard library is very extensive, offering a wide range of facilities, and it makes Python powerful ([full list of Python standard library](https://docs.python.org/3/library/)).\n",
    "\n",
    "To call functions in modules, first we must `import` the module. Then, call it using both module and function names."
   ]
  },
  {
   "cell_type": "code",
   "execution_count": 32,
   "metadata": {},
   "outputs": [
    {
     "name": "stdout",
     "output_type": "stream",
     "text": [
      "C:\\users\\sarun\\Desktop\\a.txt\n"
     ]
    }
   ],
   "source": [
    "import os\n",
    "folder = 'C:\\\\users\\\\sarun\\\\Desktop'  # for windows\n",
    "# folder = '/home/sarun/Desktop'  # for linux\n",
    "file = 'a.txt'\n",
    "print(os.path.join(folder, file))"
   ]
  },
  {
   "cell_type": "markdown",
   "metadata": {},
   "source": [
    "You can import only specific things using `from` statement."
   ]
  },
  {
   "cell_type": "code",
   "execution_count": 33,
   "metadata": {},
   "outputs": [
    {
     "name": "stdout",
     "output_type": "stream",
     "text": [
      "Current Directory is C:\\Users\\HP\\Documents\\swtech_ws\n"
     ]
    }
   ],
   "source": [
    "from os import getcwd\n",
    "print('Current Directory is {}'.format(getcwd()))"
   ]
  },
  {
   "cell_type": "code",
   "execution_count": 99,
   "metadata": {},
   "outputs": [
    {
     "data": {
      "text/plain": [
       "['.git',\n",
       " '.gitignore',\n",
       " '.ipynb_checkpoints',\n",
       " 'DOAE spatial data',\n",
       " 'drought_viz.ipynb',\n",
       " 'environment.yml',\n",
       " 'flood_viz.ipynb',\n",
       " 'mycode',\n",
       " 'mymodule.py',\n",
       " 'python_tut1.ipynb',\n",
       " 'python_tut2.ipynb',\n",
       " 'python_tut3_pandas_numpy.ipynb',\n",
       " 'README.md',\n",
       " 'sat_viz1.ipynb',\n",
       " 'sat_viz2.ipynb',\n",
       " 'sat_viz_time.ipynb',\n",
       " 'tha_adm_rtsd_itos_20190221_shp_part_1',\n",
       " 'tha_adm_rtsd_itos_20190221_shp_part_1.zip',\n",
       " '__pycache__']"
      ]
     },
     "execution_count": 99,
     "metadata": {},
     "output_type": "execute_result"
    }
   ],
   "source": [
    "os.listdir(getcwd())"
   ]
  },
  {
   "cell_type": "markdown",
   "metadata": {},
   "source": [
    "<a name=\"customized\"></a>\n",
    "### 3.2. Customized Module\n",
    "You can build your own module as well. Just save your functions and/or classes (or even variables) in a module (a file with `.py` extension containing function and/or class definitions). Then, import it using the filename (make sure you put your codes/scripts and your module in the same folder)."
   ]
  },
  {
   "cell_type": "code",
   "execution_count": 34,
   "metadata": {},
   "outputs": [
    {
     "name": "stdout",
     "output_type": "stream",
     "text": [
      "6\n"
     ]
    }
   ],
   "source": [
    "import mymodule\n",
    "print(mymodule.mul(2,3))"
   ]
  },
  {
   "cell_type": "markdown",
   "metadata": {},
   "source": [
    "### Naming a Module\n",
    "You can create an alias when you import a module for easy access by using the `as` keyword."
   ]
  },
  {
   "cell_type": "code",
   "execution_count": 35,
   "metadata": {},
   "outputs": [
    {
     "name": "stdout",
     "output_type": "stream",
     "text": [
      "Hi! Yoyo\n",
      "12\n"
     ]
    }
   ],
   "source": [
    "import mycode.myfile as mm\n",
    "from mymodule import mul as mu\n",
    "mm.greeting('Yoyo')\n",
    "print(mu(3,4))"
   ]
  },
  {
   "cell_type": "markdown",
   "metadata": {},
   "source": [
    "You can bundle a collection of modules into a \"package\" by putting modules in a folder. In Python 2 or < 3.3, we must create an empty file called `__init__.py` in every folder you import from. Python 3.3+ has [Implicit Namespace Packages](https://www.python.org/dev/peps/pep-0420/) that allow it to create a packages without an `__init__.py` file.\n",
    "\n"
   ]
  },
  {
   "cell_type": "markdown",
   "metadata": {},
   "source": [
    "<a name=\"external\"></a>\n",
    "### 3.3. External Module\n",
    "These modules are created by the third party and you are allowed to use them as long as you comply with their license. Some of them can be installed easily through the package manager like [pip](https://packaging.python.org/tutorials/installing-packages/) or [conda](https://docs.conda.io/projects/conda/en/latest/user-guide/tasks/manage-pkgs.html). Here we will look at two important modules for data analytics:\n",
    "\n",
    "1. [NumPy](http://www.numpy.org/) is the fundamental package for scientific computing \n",
    "2. [Pandas](https://pandas.pydata.org/) provides high-performance, easy-to-use data structures and data analysis tools."
   ]
  },
  {
   "cell_type": "markdown",
   "metadata": {},
   "source": [
    "[[top](#top)]"
   ]
  }
 ],
 "metadata": {
  "kernelspec": {
   "display_name": "myenv",
   "language": "python",
   "name": "myenv"
  },
  "language_info": {
   "codemirror_mode": {
    "name": "ipython",
    "version": 3
   },
   "file_extension": ".py",
   "mimetype": "text/x-python",
   "name": "python",
   "nbconvert_exporter": "python",
   "pygments_lexer": "ipython3",
   "version": "3.8.2"
  }
 },
 "nbformat": 4,
 "nbformat_minor": 4
}
