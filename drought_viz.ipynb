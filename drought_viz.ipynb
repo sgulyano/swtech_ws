{
 "cells": [
  {
   "cell_type": "markdown",
   "metadata": {},
   "source": [
    "# Visualizing Drought Data as Shape"
   ]
  },
  {
   "cell_type": "code",
   "execution_count": null,
   "metadata": {},
   "outputs": [],
   "source": [
    "import pandas as pd\n",
    "import geopandas as gpd\n",
    "\n",
    "import seaborn as sns\n",
    "import folium"
   ]
  },
  {
   "cell_type": "code",
   "execution_count": null,
   "metadata": {},
   "outputs": [],
   "source": [
    "csv_file = 'DOAE spatial data/ภัยแล้ง/csv/droght_62.csv'\n",
    "shp_file = 'DOAE spatial data/ภัยแล้ง/droght_62_4326/droght_62_4326.shp'"
   ]
  },
  {
   "cell_type": "code",
   "execution_count": null,
   "metadata": {},
   "outputs": [],
   "source": [
    "drought_62 = pd.read_csv(csv_file)\n",
    "drought_62.head()"
   ]
  },
  {
   "cell_type": "code",
   "execution_count": null,
   "metadata": {},
   "outputs": [],
   "source": [
    "data = gpd.read_file(shp_file, encoding='utf-8')\n",
    "data.head()"
   ]
  },
  {
   "cell_type": "code",
   "execution_count": null,
   "metadata": {},
   "outputs": [],
   "source": [
    "data.shape"
   ]
  },
  {
   "cell_type": "code",
   "execution_count": null,
   "metadata": {},
   "outputs": [],
   "source": [
    "data['des_th'].unique()"
   ]
  },
  {
   "cell_type": "code",
   "execution_count": null,
   "metadata": {},
   "outputs": [],
   "source": [
    "def clean_des_th(s):\n",
    "    if s.startswith('4-5'):\n",
    "        return '4-5ครั้ง/10ปี'\n",
    "    elif s.startswith('<=3'):\n",
    "        return '<=3ครั้ง/10ปี'\n",
    "    else:\n",
    "        return '>=6ครั้ง/10ปี'\n",
    "\n",
    "data['type'] = data['des_th'].apply(clean_des_th)"
   ]
  },
  {
   "cell_type": "markdown",
   "metadata": {},
   "source": [
    "You can plot Shapely Polygon directly in Jupyter"
   ]
  },
  {
   "cell_type": "code",
   "execution_count": null,
   "metadata": {},
   "outputs": [],
   "source": [
    "data.iloc[1].geometry"
   ]
  },
  {
   "cell_type": "code",
   "execution_count": null,
   "metadata": {},
   "outputs": [],
   "source": [
    "m = folium.Map([14.069446, 100.603271], zoom_start=8, tiles='cartodbpositron')\n",
    "folium.GeoJson(data[:100]).add_to(m)\n",
    "folium.LatLngPopup().add_to(m)\n",
    "m"
   ]
  },
  {
   "cell_type": "markdown",
   "metadata": {},
   "source": [
    "## Dissolve Polygons\n",
    "\n",
    "Plotting individual polygons can be slow. Merge/Dissolve them first (https://geopandas.org/aggregation_with_dissolve.html). Still dissolve can be slow."
   ]
  },
  {
   "cell_type": "code",
   "execution_count": null,
   "metadata": {},
   "outputs": [],
   "source": [
    "MAX_RECORDS = 1000"
   ]
  },
  {
   "cell_type": "code",
   "execution_count": null,
   "metadata": {},
   "outputs": [],
   "source": [
    "droughts = data[:MAX_RECORDS].dissolve(by='type')"
   ]
  },
  {
   "cell_type": "code",
   "execution_count": null,
   "metadata": {},
   "outputs": [],
   "source": [
    "droughts"
   ]
  },
  {
   "cell_type": "code",
   "execution_count": null,
   "metadata": {},
   "outputs": [],
   "source": [
    "sum([len(poly.exterior.coords) for poly in droughts.iloc[0].geometry])"
   ]
  },
  {
   "cell_type": "code",
   "execution_count": null,
   "metadata": {},
   "outputs": [],
   "source": [
    "s = droughts.iloc[0].geometry.simplify(0.001, preserve_topology=False)"
   ]
  },
  {
   "cell_type": "code",
   "execution_count": null,
   "metadata": {},
   "outputs": [],
   "source": [
    "sum([len(poly.exterior.coords) for poly in s])"
   ]
  },
  {
   "cell_type": "code",
   "execution_count": null,
   "metadata": {},
   "outputs": [],
   "source": [
    "droughts = droughts.reindex(['<=3ครั้ง/10ปี', '4-5ครั้ง/10ปี', '>=6ครั้ง/10ปี'])\n",
    "droughts"
   ]
  },
  {
   "cell_type": "code",
   "execution_count": null,
   "metadata": {},
   "outputs": [],
   "source": [
    "droughts.index"
   ]
  },
  {
   "cell_type": "markdown",
   "metadata": {},
   "source": [
    "Set color for different labels using Seaborn color palette (https://seaborn.pydata.org/tutorial/color_palettes.html)"
   ]
  },
  {
   "cell_type": "code",
   "execution_count": null,
   "metadata": {},
   "outputs": [],
   "source": [
    "colorscale = sns.color_palette(\"YlOrRd\", 3).as_hex()\n",
    "sns.palplot(colorscale)\n",
    "colorscale"
   ]
  },
  {
   "cell_type": "code",
   "execution_count": null,
   "metadata": {},
   "outputs": [],
   "source": [
    "colors = dict(zip(droughts.index, colorscale))\n",
    "\n",
    "m = folium.Map([14.069446, 100.603271], zoom_start=5, tiles='cartodbpositron')\n",
    "\n",
    "for i in range(droughts.shape[0]):\n",
    "    folium.GeoJson(droughts.iloc[i:i+1], name=droughts.index[i],\n",
    "                   style_function=lambda x: {'color' : colors[x['id']], 'fillColor' : colors[x['id']]}).add_to(m)\n",
    "folium.LatLngPopup().add_to(m)\n",
    "folium.LayerControl().add_to(m)\n",
    "m"
   ]
  },
  {
   "cell_type": "code",
   "execution_count": null,
   "metadata": {},
   "outputs": [],
   "source": [
    "def simplify_geometry(val):\n",
    "    return val.simplify(0.001, preserve_topology=False)\n",
    "\n",
    "droughts['geometry'] = droughts['geometry'].apply(simplify_geometry)"
   ]
  },
  {
   "cell_type": "code",
   "execution_count": null,
   "metadata": {},
   "outputs": [],
   "source": [
    "colors = dict(zip(droughts.index, colorscale))\n",
    "\n",
    "m = folium.Map([14.069446, 100.603271], zoom_start=5, max_zoom=11, tiles='cartodbpositron')\n",
    "\n",
    "for i in range(droughts.shape[0]):\n",
    "    folium.GeoJson(droughts.iloc[i:i+1], name=droughts.index[i],\n",
    "                   style_function=lambda x: {'color' : colors[x['id']], 'fillColor' : colors[x['id']]}).add_to(m)\n",
    "folium.LatLngPopup().add_to(m)\n",
    "folium.LayerControl().add_to(m)\n",
    "m"
   ]
  },
  {
   "cell_type": "code",
   "execution_count": null,
   "metadata": {},
   "outputs": [],
   "source": [
    "m.save('./output/drought_62.html')"
   ]
  }
 ],
 "metadata": {
  "kernelspec": {
   "display_name": "myenv",
   "language": "python",
   "name": "myenv"
  },
  "language_info": {
   "codemirror_mode": {
    "name": "ipython",
    "version": 3
   },
   "file_extension": ".py",
   "mimetype": "text/x-python",
   "name": "python",
   "nbconvert_exporter": "python",
   "pygments_lexer": "ipython3",
   "version": "3.8.2"
  }
 },
 "nbformat": 4,
 "nbformat_minor": 4
}
