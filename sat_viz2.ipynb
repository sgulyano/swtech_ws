{
 "cells": [
  {
   "cell_type": "markdown",
   "metadata": {},
   "source": [
    "# Visualize Satellite Data\n",
    "\n",
    "Need Thailand province, district, tambon shape files. Get one from \n",
    "https://data.humdata.org/dataset/thailand-administrative-boundaries"
   ]
  },
  {
   "cell_type": "code",
   "execution_count": null,
   "metadata": {},
   "outputs": [],
   "source": [
    "import pandas as pd\n",
    "import geopandas as gpd\n",
    "import branca\n",
    "import folium\n",
    "from folium.features import GeoJson, GeoJsonTooltip, GeoJsonPopup"
   ]
  },
  {
   "cell_type": "code",
   "execution_count": null,
   "metadata": {},
   "outputs": [],
   "source": [
    "directory = 'DOAE spatial data/ดาวเทียม/'\n",
    "rice_file = directory + '20200229_16_Rice/rice_20200229.shp'"
   ]
  },
  {
   "cell_type": "code",
   "execution_count": null,
   "metadata": {},
   "outputs": [],
   "source": [
    "rice = gpd.read_file(rice_file, encoding='utf-8')"
   ]
  },
  {
   "cell_type": "code",
   "execution_count": null,
   "metadata": {},
   "outputs": [],
   "source": [
    "rice.head()"
   ]
  },
  {
   "cell_type": "code",
   "execution_count": null,
   "metadata": {},
   "outputs": [],
   "source": [
    "rice.columns"
   ]
  },
  {
   "cell_type": "code",
   "execution_count": null,
   "metadata": {},
   "outputs": [],
   "source": [
    "rice[['p_name', 'a_name', 'yield', 'yield_m','start_date', 'start_name', 'harv_date',\n",
    "       'harv_name', 'crop_type']].head()"
   ]
  },
  {
   "cell_type": "code",
   "execution_count": null,
   "metadata": {},
   "outputs": [],
   "source": [
    "rice_plot_data = rice[['p_name', 'yield', 'Shape_Area']].groupby('p_name').sum().reset_index()"
   ]
  },
  {
   "cell_type": "code",
   "execution_count": null,
   "metadata": {},
   "outputs": [],
   "source": [
    "rice_plot_data"
   ]
  },
  {
   "cell_type": "markdown",
   "metadata": {},
   "source": [
    "## Thailand Map"
   ]
  },
  {
   "cell_type": "code",
   "execution_count": null,
   "metadata": {},
   "outputs": [],
   "source": [
    "province_map_file = './tha_adm_rtsd_itos_20190221_shp_part_1/tha_admbnda_adm1_rtsd_20190221.shp'"
   ]
  },
  {
   "cell_type": "code",
   "execution_count": null,
   "metadata": {},
   "outputs": [],
   "source": [
    "province_map = gpd.read_file(province_map_file, encoding='utf-8')"
   ]
  },
  {
   "cell_type": "code",
   "execution_count": null,
   "metadata": {},
   "outputs": [],
   "source": [
    "province_map.columns"
   ]
  },
  {
   "cell_type": "code",
   "execution_count": null,
   "metadata": {},
   "outputs": [],
   "source": [
    "geo_data = province_map[['ADM1_TH', 'ADM0_TH','geometry']]"
   ]
  },
  {
   "cell_type": "code",
   "execution_count": null,
   "metadata": {},
   "outputs": [],
   "source": [
    "geo_data.head()"
   ]
  },
  {
   "cell_type": "code",
   "execution_count": null,
   "metadata": {},
   "outputs": [],
   "source": [
    "rice_data = geo_data.merge(rice_plot_data, left_on='ADM1_TH', right_on='p_name')"
   ]
  },
  {
   "cell_type": "code",
   "execution_count": null,
   "metadata": {},
   "outputs": [],
   "source": [
    "rice_data"
   ]
  },
  {
   "cell_type": "code",
   "execution_count": null,
   "metadata": {},
   "outputs": [],
   "source": [
    "rice_data['yield'] = rice_data['yield'].round()"
   ]
  },
  {
   "cell_type": "code",
   "execution_count": null,
   "metadata": {},
   "outputs": [],
   "source": [
    "colormap = branca.colormap.LinearColormap(vmin=rice_data['yield'].min(),\n",
    "                                          vmax=rice_data['yield'].max(),\n",
    "                                          colors=['red','orange','lightblue','green','darkgreen'],\n",
    "                                          caption=\"Rice Yield\")"
   ]
  },
  {
   "cell_type": "code",
   "execution_count": null,
   "metadata": {},
   "outputs": [],
   "source": [
    "m = folium.Map(location=[14.069446, 100.603271], zoom_start=4)\n",
    "\n",
    "popup=GeoJsonPopup(fields=['p_name','yield','Shape_Area'], aliases=['จังหวัด','ผลผลิต','ขนาด'], localize=True, labels=True, style=\"background-color: yellow;\")\n",
    "\n",
    "tooltip=GeoJsonTooltip(\n",
    "    fields=[\"p_name\", \"yield\"],\n",
    "    aliases=[\"Province:\", \"Yield:\"],\n",
    "    localize=True,\n",
    "    sticky=False,\n",
    "    labels=True,\n",
    "    style=\"\"\"\n",
    "        background-color: #F0EFEF;\n",
    "        border: 2px solid black;\n",
    "        border-radius: 3px;\n",
    "        box-shadow: 3px;\n",
    "    \"\"\",\n",
    "    max_width=800,\n",
    ")\n",
    "\n",
    "\n",
    "g = folium.GeoJson(\n",
    "    rice_data,\n",
    "    style_function=lambda x: {\n",
    "        \"fillColor\": colormap(x[\"properties\"][\"yield\"])\n",
    "            if x[\"properties\"][\"yield\"] is not None\n",
    "            else \"transparent\",\n",
    "        \"color\": \"black\",\n",
    "        \"weight\": 0.5,\n",
    "        \"fillOpacity\": 0.4,\n",
    "    },\n",
    "    tooltip=tooltip,\n",
    "    popup=popup\n",
    ").add_to(m)\n",
    "\n",
    "colormap.add_to(m)\n",
    "\n",
    "m"
   ]
  },
  {
   "cell_type": "code",
   "execution_count": null,
   "metadata": {},
   "outputs": [],
   "source": [
    "m.save('./output/sat_viz2.html')"
   ]
  },
  {
   "cell_type": "code",
   "execution_count": null,
   "metadata": {},
   "outputs": [],
   "source": []
  }
 ],
 "metadata": {
  "kernelspec": {
   "display_name": "myenv",
   "language": "python",
   "name": "myenv"
  },
  "language_info": {
   "codemirror_mode": {
    "name": "ipython",
    "version": 3
   },
   "file_extension": ".py",
   "mimetype": "text/x-python",
   "name": "python",
   "nbconvert_exporter": "python",
   "pygments_lexer": "ipython3",
   "version": "3.8.2"
  }
 },
 "nbformat": 4,
 "nbformat_minor": 4
}
