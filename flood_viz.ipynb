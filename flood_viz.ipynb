{
 "cells": [
  {
   "cell_type": "markdown",
   "metadata": {},
   "source": [
    "# Visualizing Flood Data as Cluster Markers\n",
    "\n",
    "When plotting lots of polygons, it is very slow. Make it faster by plotting as points/markers."
   ]
  },
  {
   "cell_type": "markdown",
   "metadata": {},
   "source": [
    "`FastMarkerCluster` requires Folium 0.10.1, which is not in pypi. Install manually through this tutorial\n",
    "\n",
    "https://github.com/python-visualization/folium/issues/1089"
   ]
  },
  {
   "cell_type": "code",
   "execution_count": null,
   "metadata": {},
   "outputs": [],
   "source": [
    "# !pip install git+https://github.com/python-visualization/folium.git"
   ]
  },
  {
   "cell_type": "code",
   "execution_count": null,
   "metadata": {},
   "outputs": [],
   "source": [
    "import os\n",
    "import glob\n",
    "import pandas as pd\n",
    "import geopandas as gpd\n",
    "\n",
    "import seaborn as sns\n",
    "import folium\n",
    "\n",
    "from folium.plugins import MarkerCluster\n",
    "from folium.plugins import FastMarkerCluster"
   ]
  },
  {
   "cell_type": "code",
   "execution_count": null,
   "metadata": {},
   "outputs": [],
   "source": [
    "file_folder = 'DOAE spatial data/ภัยน้ำท่วม/'\n",
    "\n",
    "file_list = glob.glob(file_folder + '*.shp')\n",
    "file_list"
   ]
  },
  {
   "cell_type": "code",
   "execution_count": null,
   "metadata": {},
   "outputs": [],
   "source": [
    "file_list.sort()\n",
    "file_list"
   ]
  },
  {
   "cell_type": "code",
   "execution_count": null,
   "metadata": {},
   "outputs": [],
   "source": [
    "data = gpd.read_file(file_list[0], encoding='utf-8')"
   ]
  },
  {
   "cell_type": "code",
   "execution_count": null,
   "metadata": {},
   "outputs": [],
   "source": [
    "data.head()"
   ]
  },
  {
   "cell_type": "code",
   "execution_count": null,
   "metadata": {},
   "outputs": [],
   "source": [
    "data.shape"
   ]
  },
  {
   "cell_type": "code",
   "execution_count": null,
   "metadata": {},
   "outputs": [],
   "source": [
    "data.columns"
   ]
  },
  {
   "cell_type": "markdown",
   "metadata": {},
   "source": [
    "## Show as Cluster Markers"
   ]
  },
  {
   "cell_type": "code",
   "execution_count": null,
   "metadata": {},
   "outputs": [],
   "source": [
    "data.iloc[0].geometry"
   ]
  },
  {
   "cell_type": "code",
   "execution_count": null,
   "metadata": {},
   "outputs": [],
   "source": [
    "type(data.iloc[0].geometry.centroid.coords.xy)"
   ]
  },
  {
   "cell_type": "code",
   "execution_count": null,
   "metadata": {},
   "outputs": [],
   "source": [
    "x,y = data.iloc[0].geometry.centroid.coords.xy\n",
    "print(x[0], y[0])"
   ]
  },
  {
   "cell_type": "code",
   "execution_count": null,
   "metadata": {},
   "outputs": [],
   "source": [
    "def get_centroid(row):\n",
    "    x,y = row.geometry.centroid.coords.xy\n",
    "    return [y[0], x[0]]"
   ]
  },
  {
   "cell_type": "code",
   "execution_count": null,
   "metadata": {},
   "outputs": [],
   "source": [
    "MAX_RECORDS = 1000"
   ]
  },
  {
   "cell_type": "code",
   "execution_count": null,
   "metadata": {},
   "outputs": [],
   "source": [
    "locations = data[:MAX_RECORDS].apply(get_centroid, axis=1)\n",
    "locations[:10].values.tolist()"
   ]
  },
  {
   "cell_type": "code",
   "execution_count": null,
   "metadata": {},
   "outputs": [],
   "source": [
    "m = folium.Map(location=[14.069446, 100.603271], zoom_start=10)\n",
    "cluster = FastMarkerCluster(locations[:MAX_RECORDS].values.tolist())\n",
    "m.add_child(cluster)\n",
    "m"
   ]
  },
  {
   "cell_type": "markdown",
   "metadata": {},
   "source": [
    "Use callback with javascript syntax to modify markers\n",
    "\n",
    "https://leafletjs.com/"
   ]
  },
  {
   "cell_type": "code",
   "execution_count": null,
   "metadata": {},
   "outputs": [],
   "source": [
    "def get_centroid(row):\n",
    "    x,y = row.geometry.centroid.coords.xy\n",
    "    return [y[0], x[0], row.gid]"
   ]
  },
  {
   "cell_type": "code",
   "execution_count": null,
   "metadata": {},
   "outputs": [],
   "source": [
    "callback = \"\"\"\\\n",
    "function (row) {\n",
    "    var marker;\n",
    "    marker = L.marker(new L.LatLng(row[0], row[1])).bindPopup('gid: ' + row[2].toString());\n",
    "    return marker;\n",
    "};\n",
    "\"\"\"\n",
    "\n",
    "m = folium.Map(location=[14.069446, 100.603271], zoom_start=10)\n",
    "cluster = FastMarkerCluster(locations[:MAX_RECORDS].values.tolist(), callback=callback)\n",
    "m.add_child(cluster)\n",
    "m"
   ]
  },
  {
   "cell_type": "markdown",
   "metadata": {},
   "source": [
    "## Apply to all files"
   ]
  },
  {
   "cell_type": "code",
   "execution_count": null,
   "metadata": {},
   "outputs": [],
   "source": [
    "m = folium.Map(location=[14.069446, 100.603271], zoom_start=10)\n",
    "\n",
    "MAX_RECORDS = 1000\n",
    "for f in sorted(file_list)[:2]:\n",
    "    print('Read: ' + f)\n",
    "    data = gpd.read_file(f, encoding='utf-8')\n",
    "    locations = data[:MAX_RECORDS].apply(get_centroid, axis=1)\n",
    "    \n",
    "    cluster = FastMarkerCluster(locations[:MAX_RECORDS].values.tolist(), callback=callback, name=os.path.basename(f))\n",
    "    m.add_child(cluster)\n",
    "\n",
    "folium.LayerControl().add_to(m)\n",
    "m"
   ]
  },
  {
   "cell_type": "code",
   "execution_count": null,
   "metadata": {},
   "outputs": [],
   "source": [
    "m.save('./output/flood_62.html')"
   ]
  }
 ],
 "metadata": {
  "kernelspec": {
   "display_name": "myenv",
   "language": "python",
   "name": "myenv"
  },
  "language_info": {
   "codemirror_mode": {
    "name": "ipython",
    "version": 3
   },
   "file_extension": ".py",
   "mimetype": "text/x-python",
   "name": "python",
   "nbconvert_exporter": "python",
   "pygments_lexer": "ipython3",
   "version": "3.8.2"
  }
 },
 "nbformat": 4,
 "nbformat_minor": 4
}
